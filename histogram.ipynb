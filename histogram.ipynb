{
 "cells": [
  {
   "cell_type": "code",
   "execution_count": null,
   "metadata": {},
   "outputs": [],
   "source": [
    "import pickle\n",
    "folder_path = 'output/'\n",
    "import matplotlib.pyplot as plt\n",
    "from matplotlib import pyplot as plt\n",
    "from scipy.stats import loglaplace,chi2\n",
    "from labellines import *\n",
    "import numpy as np\n"
   ]
  },
  {
   "cell_type": "code",
   "execution_count": null,
   "metadata": {},
   "outputs": [],
   "source": []
  },
  {
   "cell_type": "code",
   "execution_count": null,
   "metadata": {},
   "outputs": [],
   "source": [
    "# Create the histogram\n",
    "all_data['R']= all_data['rejected'].apply(lambda x: 1 if x == True else 0)\n",
    "all_data['T']= all_data['rejected'].apply(lambda x: 1 if x == True else 1)\n",
    "if dataset == \"TWINSC\":\n",
    "    plt.hist(all_data['ite_sign'], bins=(-1,0,1,2), align='left', rwidth=0.8, weights=all_data['T'], color='grey')\n",
    "    plt.hist(all_data['ite_sign'], bins=(-1,0,1,2), align='left', rwidth=0.8, weights=all_data['R'], color='red')\n",
    "    ## Set labels and title\n",
    "    plt.xlabel('Sign of TE')\n",
    "    plt.ylabel('Rejected samples in red')\n",
    "    plt.title('Histogram of Count of Rejected Observations by Decile')\n",
    "    ## Adjust layout and display the plot\n",
    "    plt.xticks((-1,0,1))\n",
    "else:\n",
    "    plt.hist(all_data['decile'], bins=range(11), align='left', rwidth=0.8, weights=all_data['T'], color='grey')\n",
    "    plt.hist(all_data['decile'], bins=range(11), align='left', rwidth=0.8, weights=all_data['R'], color='red')\n",
    "    ## Set labels and title\n",
    "    plt.xlabel('Decile of TE')\n",
    "    plt.ylabel('Rejected samples in red')\n",
    "    plt.title('Histogram of Count of Rejected Observations by Decile')\n",
    "    ## Adjust layout and display the plot\n",
    "    plt.xticks(range(10))\n",
    "plt.grid(axis='y', alpha=0.75)\n",
    "plt.tight_layout()\n",
    "plt.savefig(f\"output/data/{dataset}/{experiment_id}_histogram.png\")\n",
    "plt.close()\n"
   ]
  }
 ],
 "metadata": {
  "language_info": {
   "name": "python"
  }
 },
 "nbformat": 4,
 "nbformat_minor": 2
}
