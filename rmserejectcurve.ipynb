{
 "cells": [
  {
   "cell_type": "code",
   "execution_count": 6,
   "metadata": {},
   "outputs": [],
   "source": [
    "import pickle\n",
    "folder_path = 'output/'\n",
    "import matplotlib.pyplot as plt\n",
    "from matplotlib import pyplot as plt\n",
    "from scipy.stats import loglaplace,chi2\n",
    "from labellines import *\n",
    "import numpy as np\n"
   ]
  },
  {
   "cell_type": "code",
   "execution_count": 7,
   "metadata": {},
   "outputs": [],
   "source": [
    "\n",
    "# Define the file path where the data is saved\n",
    "file_path = f'{folder_path}overleaf/data/rmserejectcurve.pkl'\n",
    "\n",
    "# Load the data from the file using pickle\n",
    "with open(file_path, 'rb') as f:\n",
    "    data_loaded = pickle.load(f)\n",
    "\n",
    "# Now you can access the dictionaries in the list data_loaded\n",
    "twinsc_rmse, twinsc_rmse_change, twinsc_reject_rates, \\\n",
    "ihdp_reject_rates, ihdp_rmse, ihdp_rmse_change = data_loaded\n",
    "\n",
    "# Multiply each value in twinsc_rmse_change by 100\n",
    "for key, value in twinsc_rmse_change.items():\n",
    "    twinsc_rmse_change[key] = [x * 100 for x in value]\n",
    "\n",
    "# Multiply each value in ihdp_rmse_change by 100\n",
    "for key, value in ihdp_rmse_change.items():\n",
    "    ihdp_rmse_change[key] = [x * 100 for x in value]\n",
    "\n",
    "# Multiply each value in ihdp_reject_rates by 100\n",
    "for key, value in ihdp_reject_rates.items():\n",
    "    ihdp_reject_rates[key] = [x * 100 for x in value]\n",
    "\n",
    "# Multiply each value in twinsc_reject_rates by 100\n",
    "for key, value in twinsc_reject_rates.items():\n",
    "    twinsc_reject_rates[key] = [x * 100 for x in value]\n",
    "\n"
   ]
  },
  {
   "cell_type": "code",
   "execution_count": 8,
   "metadata": {},
   "outputs": [
    {
     "ename": "KeyError",
     "evalue": "1",
     "output_type": "error",
     "traceback": [
      "\u001b[0;31m---------------------------------------------------------------------------\u001b[0m",
      "\u001b[0;31mKeyError\u001b[0m                                  Traceback (most recent call last)",
      "Cell \u001b[0;32mIn[8], line 36\u001b[0m\n\u001b[1;32m     33\u001b[0m \u001b[38;5;66;03m# Plot the change percentage on the left y-axis\u001b[39;00m\n\u001b[1;32m     34\u001b[0m \u001b[38;5;28;01mfor\u001b[39;00m i \u001b[38;5;129;01min\u001b[39;00m \u001b[38;5;28mrange\u001b[39m(\u001b[38;5;241m1\u001b[39m, \u001b[38;5;28mlen\u001b[39m(rmse) \u001b[38;5;241m+\u001b[39m \u001b[38;5;241m1\u001b[39m):\n\u001b[1;32m     35\u001b[0m     \u001b[38;5;66;03m# ax1.plot(ihdp_reject_rates[i][:max_rr], ihdp_rmse[i][:max_rr], label=f'Experiment {i}', color=colors[i-1], linestyle=linestyle[i-1])\u001b[39;00m\n\u001b[0;32m---> 36\u001b[0m     ax1\u001b[38;5;241m.\u001b[39mplot(\u001b[43mreject_rates\u001b[49m\u001b[43m[\u001b[49m\u001b[43mi\u001b[49m\u001b[43m]\u001b[49m[:max_rr],rmse[i][:max_rr],label\u001b[38;5;241m=\u001b[39mlabels[i\u001b[38;5;241m-\u001b[39m\u001b[38;5;241m1\u001b[39m], color\u001b[38;5;241m=\u001b[39mcolors[i\u001b[38;5;241m-\u001b[39m\u001b[38;5;241m1\u001b[39m], linestyle\u001b[38;5;241m=\u001b[39mlinestyle[i\u001b[38;5;241m-\u001b[39m\u001b[38;5;241m1\u001b[39m])\n\u001b[1;32m     39\u001b[0m \u001b[38;5;66;03m# xvals = [2, 4, 6, 8, 10]\u001b[39;00m\n\u001b[1;32m     40\u001b[0m \n\u001b[1;32m     41\u001b[0m \u001b[38;5;66;03m# labelLines(plt.gca().get_lines(),xvals=xvals,zorder=2.5)\u001b[39;00m\n\u001b[1;32m     42\u001b[0m labelLines(plt\u001b[38;5;241m.\u001b[39mgca()\u001b[38;5;241m.\u001b[39mget_lines(),zorder\u001b[38;5;241m=\u001b[39m\u001b[38;5;241m2.5\u001b[39m)\n",
      "\u001b[0;31mKeyError\u001b[0m: 1"
     ]
    },
    {
     "data": {
      "image/png": "[encoded data removed]",
      "text/plain": [
       "<Figure size 640x480 with 1 Axes>"
      ]
     },
     "metadata": {},
     "output_type": "display_data"
    }
   ],
   "source": [
    "\n",
    "for dataset in [\"ihdp\", \"twinsc\"]:\n",
    "    if dataset == \"ihdp\":\n",
    "        reject_rates = ihdp_reject_rates\n",
    "        rmse = ihdp_rmse\n",
    "        rmse_change = ihdp_rmse_change\n",
    "    elif dataset == \"twinsc\":\n",
    "        reject_rates = twinsc_reject_rates\n",
    "        rmse = twinsc_rmse\n",
    "        rmse_change = twinsc_rmse_change\n",
    "    # Create figure and axis objects\n",
    "    fig, ax1 = plt.subplots()\n",
    "\n",
    "    # All colors\n",
    "    # colors = ['red', 'blue', 'green', 'orange', 'purple', 'brown', 'pink', 'gray', 'olive', 'cyan']\n",
    "\n",
    "    # Same color means same same detection function\n",
    "    # Same linestyle means same definition\n",
    "    # colors = ['brown', 'blue', 'olive', 'brown', 'blue', 'olive', 'brown', 'blue', 'olive', 'orange']\n",
    "    # linestyle = [':', ':', ':',       '-.', '-.', '-.',       '-', '-','-',     '--']\n",
    "\n",
    "    # Same color means same definition\n",
    "    # Same linestyle means same detection function\n",
    "    colors = ['brown', 'brown', 'brown', 'blue', 'blue', 'blue', 'olive', 'olive', 'olive', 'orange']\n",
    "    # linestyle = [':', '-.', '-',       ':', '-.', '-',       ':', '-.','-',     '--']\n",
    "    linestyle = ['-', '-', '-',       '-', '-', '-',       '-', '-','-',     '-']\n",
    "\n",
    "    # labels = ['N1', 'N1', 'N1', 'N2', 'N2', 'N2', 'N3', 'N3', 'N3', 'A1']\n",
    "    # labels = ['N1-iF', 'N1-SVM', 'N1-LOF', 'N2-iF', 'N2-SVM', 'N2-LOF', 'N3-iF', 'N3-SVM', 'N3-LOF', 'A1']\n",
    "    labels = ['iF', 'SVM', 'LOF', 'iF', 'SVM', 'LOF', 'iF', 'SVM', 'LOF', 'RFQR']\n",
    "\n",
    "    max_rr = 13 # 7\n",
    "\n",
    "    # Plot the change percentage on the left y-axis\n",
    "    for i in range(1, len(rmse) + 1):\n",
    "        # ax1.plot(ihdp_reject_rates[i][:max_rr], ihdp_rmse[i][:max_rr], label=f'Experiment {i}', color=colors[i-1], linestyle=linestyle[i-1])\n",
    "        ax1.plot(reject_rates[i][:max_rr],rmse[i][:max_rr],label=labels[i-1], color=colors[i-1], linestyle=linestyle[i-1])\n",
    "    \n",
    "    \n",
    "    # xvals = [2, 4, 6, 8, 10]\n",
    "\n",
    "    # labelLines(plt.gca().get_lines(),xvals=xvals,zorder=2.5)\n",
    "    labelLines(plt.gca().get_lines(),zorder=2.5)\n",
    "\n",
    "    ax1.set_xlabel('Reject Rate (%)', color='black')\n",
    "    ax1.set_ylabel('Absolute Error', color='black')\n",
    "    ax1.tick_params(axis='y', colors='black')\n",
    "\n",
    "    # Create a second y-axis for the absolute error\n",
    "    ax2 = ax1.twinx()\n",
    "    for i in range(1, len(rmse_change) + 1):\n",
    "        # ax2.plot(ihdp_reject_rates[i][:max_rr], ihdp_rmse_change[i][:max_rr], label=f'Experiment {i}',color=colors[i-1], linestyle=linestyle[i-1])\n",
    "        ax2.plot(reject_rates[i][:max_rr],rmse_change[i][:max_rr], color=colors[i-1], linestyle=linestyle[i-1], alpha=0) # Invisible\n",
    "    # labelLines(plt.gca().get_lines(),zorder=2.5)\n",
    "    ax2.set_ylabel('Relative Error (%)', color='black')\n",
    "    ax2.tick_params(axis='y', colors='black')\n",
    "\n",
    "    # Add a dotted vertical line at x = 5\n",
    "    ax2.axhline(y=0, color='gray', linestyle='--')\n",
    "    ax2.set_xlabel('Reject Rate (%)', color='black')\n",
    "\n",
    "    # Set x-axis limit\n",
    "    # ax1.set_xlim(0, 15)\n",
    "    # ax2.set_xlim(0, 15)\n",
    "\n",
    "    # Add legend on one graph\n",
    "    if dataset == \"twinsc\":\n",
    "        lines1, labels1 = ax1.get_legend_handles_labels()\n",
    "        # lines2, labels2 = ax2.get_legend_handles_labels()\n",
    "        lines = lines1 #+ lines2\n",
    "        # labels = ['iForest', 'oc-SVM', 'LOF', 'N2', 'N2', 'N2', 'N3', 'N3', 'N3', 'A1555']\n",
    "        # labels = ['Novelty 1', 'N1', 'N1','Novelty 2', 'N2', 'Novelty 2','Novelty 3', 'N3', 'N3','Ambiguity 1']\n",
    "        labels = ['Singular Comparison Novelty Score', 'Singular Comparison Novelty Score', 'Singular Comparison Novelty Score','Groupwise Comparison Novelty Score', 'Groupwise Comparison Novelty Score', 'Groupwise Comparison Novelty Score','Hybrid Comparison Novelty Score', 'Hybrid Comparison Novelty Score', 'Hybrid Comparison Novelty Score','Ambiguity Score']\n",
    "\n",
    "        # labels = labels1 #+ labels2\n",
    "        ax1.legend([lines[0],lines[3],lines[6], lines[9]],[labels[0],labels[3],labels[6], labels[9]])\n",
    "        # ax1.legend(lines, labels, loc='upper left')\n",
    "\n",
    "    plt.tight_layout()\n",
    "    plt.savefig(f\"{folder_path}overleaf/rmse/{dataset}_rmserejectcurve.pdf\")\n",
    "\n",
    "    # Show the plot\n",
    "    plt.show()"
   ]
  }
 ],
 "metadata": {
  "kernelspec": {
   "display_name": "Python 3",
   "language": "python",
   "name": "python3"
  },
  "language_info": {
   "codemirror_mode": {
    "name": "ipython",
    "version": 3
   },
   "file_extension": ".py",
   "mimetype": "text/x-python",
   "name": "python",
   "nbconvert_exporter": "python",
   "pygments_lexer": "ipython3",
   "version": "3.11.4"
  }
 },
 "nbformat": 4,
 "nbformat_minor": 2
}
